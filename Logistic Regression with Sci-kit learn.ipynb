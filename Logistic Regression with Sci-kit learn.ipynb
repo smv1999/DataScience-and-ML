{
 "cells": [
  {
   "cell_type": "code",
   "execution_count": 4,
   "metadata": {},
   "outputs": [],
   "source": [
    "import pandas as pd\n",
    "import numpy as np\n",
    "from sklearn.linear_model import LogisticRegression "
   ]
  },
  {
   "cell_type": "code",
   "execution_count": 5,
   "metadata": {},
   "outputs": [],
   "source": [
    "df = pd.read_csv('titanic.csv')"
   ]
  },
  {
   "cell_type": "code",
   "execution_count": 6,
   "metadata": {},
   "outputs": [],
   "source": [
    "df['male'] = df['Sex'] == 'male'"
   ]
  },
  {
   "cell_type": "code",
   "execution_count": 7,
   "metadata": {},
   "outputs": [
    {
     "data": {
      "text/html": [
       "<div>\n",
       "<style scoped>\n",
       "    .dataframe tbody tr th:only-of-type {\n",
       "        vertical-align: middle;\n",
       "    }\n",
       "\n",
       "    .dataframe tbody tr th {\n",
       "        vertical-align: top;\n",
       "    }\n",
       "\n",
       "    .dataframe thead th {\n",
       "        text-align: right;\n",
       "    }\n",
       "</style>\n",
       "<table border=\"1\" class=\"dataframe\">\n",
       "  <thead>\n",
       "    <tr style=\"text-align: right;\">\n",
       "      <th></th>\n",
       "      <th>Survived</th>\n",
       "      <th>Pclass</th>\n",
       "      <th>Sex</th>\n",
       "      <th>Age</th>\n",
       "      <th>Siblings/Spouses</th>\n",
       "      <th>Parents/Children</th>\n",
       "      <th>Fare</th>\n",
       "      <th>male</th>\n",
       "    </tr>\n",
       "  </thead>\n",
       "  <tbody>\n",
       "    <tr>\n",
       "      <th>0</th>\n",
       "      <td>0</td>\n",
       "      <td>3</td>\n",
       "      <td>male</td>\n",
       "      <td>22.0</td>\n",
       "      <td>1</td>\n",
       "      <td>0</td>\n",
       "      <td>7.2500</td>\n",
       "      <td>True</td>\n",
       "    </tr>\n",
       "    <tr>\n",
       "      <th>1</th>\n",
       "      <td>1</td>\n",
       "      <td>1</td>\n",
       "      <td>female</td>\n",
       "      <td>38.0</td>\n",
       "      <td>1</td>\n",
       "      <td>0</td>\n",
       "      <td>71.2833</td>\n",
       "      <td>False</td>\n",
       "    </tr>\n",
       "    <tr>\n",
       "      <th>2</th>\n",
       "      <td>1</td>\n",
       "      <td>3</td>\n",
       "      <td>female</td>\n",
       "      <td>26.0</td>\n",
       "      <td>0</td>\n",
       "      <td>0</td>\n",
       "      <td>7.9250</td>\n",
       "      <td>False</td>\n",
       "    </tr>\n",
       "    <tr>\n",
       "      <th>3</th>\n",
       "      <td>1</td>\n",
       "      <td>1</td>\n",
       "      <td>female</td>\n",
       "      <td>35.0</td>\n",
       "      <td>1</td>\n",
       "      <td>0</td>\n",
       "      <td>53.1000</td>\n",
       "      <td>False</td>\n",
       "    </tr>\n",
       "    <tr>\n",
       "      <th>4</th>\n",
       "      <td>0</td>\n",
       "      <td>3</td>\n",
       "      <td>male</td>\n",
       "      <td>35.0</td>\n",
       "      <td>0</td>\n",
       "      <td>0</td>\n",
       "      <td>8.0500</td>\n",
       "      <td>True</td>\n",
       "    </tr>\n",
       "    <tr>\n",
       "      <th>...</th>\n",
       "      <td>...</td>\n",
       "      <td>...</td>\n",
       "      <td>...</td>\n",
       "      <td>...</td>\n",
       "      <td>...</td>\n",
       "      <td>...</td>\n",
       "      <td>...</td>\n",
       "      <td>...</td>\n",
       "    </tr>\n",
       "    <tr>\n",
       "      <th>882</th>\n",
       "      <td>0</td>\n",
       "      <td>2</td>\n",
       "      <td>male</td>\n",
       "      <td>27.0</td>\n",
       "      <td>0</td>\n",
       "      <td>0</td>\n",
       "      <td>13.0000</td>\n",
       "      <td>True</td>\n",
       "    </tr>\n",
       "    <tr>\n",
       "      <th>883</th>\n",
       "      <td>1</td>\n",
       "      <td>1</td>\n",
       "      <td>female</td>\n",
       "      <td>19.0</td>\n",
       "      <td>0</td>\n",
       "      <td>0</td>\n",
       "      <td>30.0000</td>\n",
       "      <td>False</td>\n",
       "    </tr>\n",
       "    <tr>\n",
       "      <th>884</th>\n",
       "      <td>0</td>\n",
       "      <td>3</td>\n",
       "      <td>female</td>\n",
       "      <td>7.0</td>\n",
       "      <td>1</td>\n",
       "      <td>2</td>\n",
       "      <td>23.4500</td>\n",
       "      <td>False</td>\n",
       "    </tr>\n",
       "    <tr>\n",
       "      <th>885</th>\n",
       "      <td>1</td>\n",
       "      <td>1</td>\n",
       "      <td>male</td>\n",
       "      <td>26.0</td>\n",
       "      <td>0</td>\n",
       "      <td>0</td>\n",
       "      <td>30.0000</td>\n",
       "      <td>True</td>\n",
       "    </tr>\n",
       "    <tr>\n",
       "      <th>886</th>\n",
       "      <td>0</td>\n",
       "      <td>3</td>\n",
       "      <td>male</td>\n",
       "      <td>32.0</td>\n",
       "      <td>0</td>\n",
       "      <td>0</td>\n",
       "      <td>7.7500</td>\n",
       "      <td>True</td>\n",
       "    </tr>\n",
       "  </tbody>\n",
       "</table>\n",
       "<p>887 rows × 8 columns</p>\n",
       "</div>"
      ],
      "text/plain": [
       "     Survived  Pclass     Sex   Age  Siblings/Spouses  Parents/Children  \\\n",
       "0           0       3    male  22.0                 1                 0   \n",
       "1           1       1  female  38.0                 1                 0   \n",
       "2           1       3  female  26.0                 0                 0   \n",
       "3           1       1  female  35.0                 1                 0   \n",
       "4           0       3    male  35.0                 0                 0   \n",
       "..        ...     ...     ...   ...               ...               ...   \n",
       "882         0       2    male  27.0                 0                 0   \n",
       "883         1       1  female  19.0                 0                 0   \n",
       "884         0       3  female   7.0                 1                 2   \n",
       "885         1       1    male  26.0                 0                 0   \n",
       "886         0       3    male  32.0                 0                 0   \n",
       "\n",
       "        Fare   male  \n",
       "0     7.2500   True  \n",
       "1    71.2833  False  \n",
       "2     7.9250  False  \n",
       "3    53.1000  False  \n",
       "4     8.0500   True  \n",
       "..       ...    ...  \n",
       "882  13.0000   True  \n",
       "883  30.0000  False  \n",
       "884  23.4500  False  \n",
       "885  30.0000   True  \n",
       "886   7.7500   True  \n",
       "\n",
       "[887 rows x 8 columns]"
      ]
     },
     "execution_count": 7,
     "metadata": {},
     "output_type": "execute_result"
    }
   ],
   "source": [
    "df"
   ]
  },
  {
   "cell_type": "code",
   "execution_count": 8,
   "metadata": {},
   "outputs": [],
   "source": [
    "X = df[['Pclass', 'male', 'Age', 'Siblings/Spouses', 'Parents/Children', 'Fare']].values\n",
    "# features"
   ]
  },
  {
   "cell_type": "code",
   "execution_count": 9,
   "metadata": {},
   "outputs": [
    {
     "data": {
      "text/plain": [
       "array([[3, True, 22.0, 1, 0, 7.25],\n",
       "       [1, False, 38.0, 1, 0, 71.2833],\n",
       "       [3, False, 26.0, 0, 0, 7.925],\n",
       "       ...,\n",
       "       [3, False, 7.0, 1, 2, 23.45],\n",
       "       [1, True, 26.0, 0, 0, 30.0],\n",
       "       [3, True, 32.0, 0, 0, 7.75]], dtype=object)"
      ]
     },
     "execution_count": 9,
     "metadata": {},
     "output_type": "execute_result"
    }
   ],
   "source": [
    "X"
   ]
  },
  {
   "cell_type": "code",
   "execution_count": 10,
   "metadata": {},
   "outputs": [],
   "source": [
    "y = df['Survived'].values\n",
    "#label"
   ]
  },
  {
   "cell_type": "code",
   "execution_count": 11,
   "metadata": {},
   "outputs": [
    {
     "data": {
      "text/plain": [
       "array([0, 1, 1, 1, 0, 0, 0, 0, 1, 1, 1, 1, 0, 0, 0, 1, 0, 1, 0, 1, 0, 1,\n",
       "       1, 1, 0, 1, 0, 0, 1, 0, 0, 1, 1, 0, 0, 0, 1, 0, 0, 1, 0, 0, 1, 1,\n",
       "       0, 0, 1, 0, 0, 0, 0, 1, 1, 0, 1, 1, 0, 1, 0, 0, 1, 0, 0, 0, 1, 1,\n",
       "       0, 1, 0, 0, 0, 0, 0, 1, 0, 0, 0, 1, 1, 0, 1, 1, 0, 1, 1, 0, 0, 1,\n",
       "       0, 0, 0, 0, 0, 0, 0, 0, 1, 1, 0, 0, 0, 0, 0, 0, 0, 1, 1, 0, 1, 0,\n",
       "       0, 0, 0, 0, 0, 0, 0, 0, 0, 0, 0, 0, 1, 0, 1, 0, 1, 1, 0, 0, 0, 0,\n",
       "       1, 0, 0, 1, 0, 0, 0, 0, 1, 1, 0, 0, 0, 1, 0, 0, 0, 0, 1, 0, 0, 0,\n",
       "       0, 1, 0, 0, 0, 0, 1, 0, 0, 0, 1, 1, 0, 0, 0, 0, 0, 1, 0, 0, 0, 0,\n",
       "       0, 0, 0, 0, 0, 0, 1, 1, 0, 1, 1, 0, 0, 1, 0, 1, 1, 1, 1, 0, 0, 1,\n",
       "       0, 0, 0, 0, 0, 1, 0, 0, 1, 1, 1, 0, 1, 0, 0, 0, 1, 1, 0, 1, 0, 1,\n",
       "       0, 0, 0, 1, 0, 1, 0, 0, 0, 1, 0, 0, 1, 0, 0, 0, 1, 0, 0, 0, 1, 0,\n",
       "       0, 0, 0, 0, 1, 1, 0, 0, 0, 0, 0, 0, 1, 1, 1, 1, 1, 1, 0, 0, 0, 0,\n",
       "       0, 1, 1, 1, 0, 1, 1, 0, 1, 1, 0, 0, 0, 1, 0, 0, 0, 1, 0, 0, 1, 0,\n",
       "       1, 1, 1, 1, 0, 0, 0, 0, 0, 0, 1, 1, 1, 1, 0, 1, 0, 1, 1, 1, 0, 1,\n",
       "       1, 1, 0, 0, 0, 1, 1, 0, 1, 1, 0, 0, 1, 1, 0, 1, 0, 1, 1, 1, 1, 0,\n",
       "       0, 0, 1, 0, 0, 1, 1, 0, 1, 1, 0, 0, 0, 1, 1, 1, 1, 0, 0, 0, 0, 0,\n",
       "       0, 0, 1, 0, 1, 1, 0, 0, 0, 0, 0, 0, 1, 1, 1, 1, 1, 0, 0, 0, 0, 1,\n",
       "       1, 0, 0, 0, 1, 1, 0, 1, 0, 0, 0, 1, 0, 1, 1, 1, 0, 1, 1, 0, 0, 0,\n",
       "       0, 1, 1, 0, 0, 0, 0, 0, 0, 1, 0, 0, 0, 0, 1, 0, 1, 0, 1, 1, 0, 0,\n",
       "       0, 0, 0, 0, 0, 1, 1, 0, 1, 1, 1, 1, 0, 0, 1, 0, 1, 0, 0, 1, 0, 0,\n",
       "       1, 1, 1, 1, 1, 1, 1, 0, 0, 0, 1, 0, 1, 0, 1, 1, 0, 1, 0, 0, 0, 0,\n",
       "       0, 0, 0, 0, 1, 0, 0, 1, 1, 0, 0, 0, 0, 0, 1, 0, 0, 0, 1, 1, 0, 1,\n",
       "       0, 0, 1, 0, 0, 0, 0, 0, 0, 1, 0, 0, 0, 0, 0, 0, 0, 1, 0, 1, 1, 0,\n",
       "       1, 1, 0, 1, 1, 0, 0, 1, 0, 1, 0, 1, 0, 0, 1, 0, 0, 1, 0, 0, 0, 1,\n",
       "       0, 0, 1, 0, 1, 0, 1, 0, 1, 1, 0, 0, 1, 0, 0, 1, 1, 0, 1, 1, 0, 0,\n",
       "       1, 1, 0, 1, 0, 1, 1, 0, 0, 0, 0, 0, 0, 0, 0, 0, 1, 1, 1, 1, 1, 0,\n",
       "       0, 1, 1, 0, 1, 1, 1, 0, 0, 0, 1, 0, 1, 0, 0, 0, 1, 0, 0, 0, 0, 1,\n",
       "       0, 0, 1, 1, 0, 0, 0, 1, 0, 0, 1, 1, 1, 0, 0, 1, 0, 0, 1, 0, 0, 1,\n",
       "       0, 0, 1, 1, 0, 0, 0, 0, 1, 0, 0, 1, 0, 1, 0, 0, 1, 0, 0, 0, 0, 0,\n",
       "       1, 0, 1, 1, 1, 0, 1, 0, 1, 0, 1, 0, 1, 0, 0, 0, 0, 0, 0, 1, 0, 0,\n",
       "       0, 1, 0, 0, 0, 0, 1, 1, 0, 0, 1, 0, 0, 0, 1, 0, 1, 0, 1, 0, 0, 0,\n",
       "       0, 0, 0, 0, 1, 1, 1, 1, 0, 0, 0, 0, 1, 0, 0, 1, 1, 0, 0, 0, 0, 1,\n",
       "       1, 1, 1, 1, 0, 1, 0, 0, 0, 1, 1, 0, 1, 0, 0, 0, 1, 0, 1, 1, 0, 0,\n",
       "       1, 0, 0, 0, 0, 0, 0, 1, 0, 0, 1, 0, 1, 0, 1, 0, 0, 1, 0, 0, 1, 1,\n",
       "       0, 0, 1, 1, 0, 0, 0, 1, 0, 0, 1, 1, 0, 1, 0, 0, 0, 0, 0, 0, 0, 0,\n",
       "       1, 0, 0, 1, 0, 1, 1, 1, 0, 0, 0, 0, 1, 0, 1, 0, 0, 0, 0, 0, 0, 0,\n",
       "       1, 1, 0, 0, 0, 1, 1, 1, 1, 0, 0, 0, 0, 1, 0, 0, 0, 0, 0, 0, 0, 0,\n",
       "       0, 0, 1, 1, 0, 1, 0, 0, 0, 1, 1, 1, 1, 1, 0, 0, 0, 1, 0, 0, 1, 1,\n",
       "       0, 0, 1, 0, 0, 0, 0, 0, 0, 1, 0, 0, 0, 1, 0, 1, 1, 1, 1, 0, 0, 0,\n",
       "       1, 0, 0, 1, 1, 0, 0, 1, 0, 1, 0, 0, 1, 1, 0, 0, 0, 1, 1, 0, 0, 0,\n",
       "       0, 0, 0, 1, 0, 1, 0], dtype=int64)"
      ]
     },
     "execution_count": 11,
     "metadata": {},
     "output_type": "execute_result"
    }
   ],
   "source": [
    "y"
   ]
  },
  {
   "cell_type": "code",
   "execution_count": 12,
   "metadata": {},
   "outputs": [],
   "source": [
    "model = LogisticRegression()\n",
    "# instantiate the class"
   ]
  },
  {
   "cell_type": "code",
   "execution_count": 13,
   "metadata": {},
   "outputs": [
    {
     "data": {
      "text/plain": [
       "LogisticRegression(C=1.0, class_weight=None, dual=False, fit_intercept=True,\n",
       "                   intercept_scaling=1, l1_ratio=None, max_iter=100,\n",
       "                   multi_class='auto', n_jobs=None, penalty='l2',\n",
       "                   random_state=None, solver='lbfgs', tol=0.0001, verbose=0,\n",
       "                   warm_start=False)"
      ]
     },
     "execution_count": 13,
     "metadata": {},
     "output_type": "execute_result"
    }
   ],
   "source": [
    "model.fit(X, y)\n",
    "# building the model, using the data to find the line of best fit"
   ]
  },
  {
   "cell_type": "code",
   "execution_count": 14,
   "metadata": {},
   "outputs": [
    {
     "name": "stdout",
     "output_type": "stream",
     "text": [
      "[[-1.1364573  -2.64409955 -0.04237384 -0.38746646 -0.09619818  0.00297184]] [5.08857292]\n"
     ]
    }
   ],
   "source": [
    "print(model.coef_, model.intercept_)"
   ]
  },
  {
   "cell_type": "code",
   "execution_count": 15,
   "metadata": {},
   "outputs": [
    {
     "data": {
      "text/plain": [
       "array([0, 1, 1, 1, 0, 0, 0, 0, 1, 1, 1, 1, 0, 0, 1, 1, 0, 0, 1, 1, 0, 0,\n",
       "       1, 1, 1, 0, 0, 0, 1, 0, 0, 1, 1, 0, 0, 0, 0, 0, 1, 1, 0, 1, 1, 1,\n",
       "       0, 0, 1, 0, 1, 0, 0, 1, 1, 0, 0, 1, 0, 1, 0, 0, 1, 0, 0, 0, 0, 1,\n",
       "       0, 0, 0, 0, 0, 0, 0, 0, 0, 0, 0, 1, 1, 0, 0, 1, 1, 1, 0, 0, 0, 1,\n",
       "       0, 0, 0, 0, 0, 0, 0, 0, 1, 1, 0, 1, 0, 1, 0, 0, 0, 1, 0, 0, 1, 0,\n",
       "       1, 0, 1, 1, 0, 0, 0, 1, 0, 0, 0, 0, 1, 0, 0, 0, 0, 1, 0, 0, 0, 0,\n",
       "       1, 0, 0, 1, 0, 0, 1, 0, 1, 1, 0, 0, 0, 0, 1, 0, 0, 0, 1, 0, 0, 0,\n",
       "       0, 1, 0, 0, 0, 0, 1, 0, 0, 0, 0, 1, 0, 0, 0, 0, 0, 1, 0, 0, 0, 0,\n",
       "       1, 0, 0, 0, 0, 0, 0, 1, 0, 1, 0, 0, 0, 1, 0, 1, 0, 1, 1, 0, 0, 1,\n",
       "       1, 0, 0, 0, 0, 0, 1, 0, 0, 1, 0, 0, 1, 0, 0, 0, 1, 1, 0, 1, 0, 0,\n",
       "       0, 0, 0, 0, 0, 0, 0, 0, 0, 1, 0, 0, 0, 0, 1, 0, 1, 0, 0, 1, 1, 0,\n",
       "       0, 0, 0, 1, 1, 0, 0, 0, 0, 0, 0, 0, 1, 1, 1, 1, 1, 0, 0, 0, 1, 0,\n",
       "       0, 0, 1, 1, 1, 0, 1, 0, 1, 1, 0, 0, 0, 0, 0, 0, 0, 0, 0, 0, 0, 0,\n",
       "       0, 1, 1, 1, 0, 1, 0, 1, 0, 1, 0, 1, 1, 0, 0, 1, 0, 1, 1, 1, 0, 1,\n",
       "       1, 1, 1, 0, 0, 1, 1, 0, 1, 1, 0, 0, 1, 1, 0, 1, 0, 1, 0, 1, 0, 0,\n",
       "       1, 0, 1, 0, 0, 1, 0, 0, 0, 1, 0, 0, 0, 1, 1, 0, 0, 0, 0, 0, 0, 0,\n",
       "       0, 0, 1, 1, 1, 1, 0, 0, 0, 0, 0, 0, 1, 1, 1, 1, 1, 0, 0, 1, 1, 1,\n",
       "       1, 1, 0, 0, 1, 1, 0, 1, 0, 0, 0, 1, 0, 1, 0, 0, 0, 1, 1, 0, 1, 0,\n",
       "       0, 1, 0, 0, 1, 0, 1, 0, 0, 0, 0, 1, 0, 0, 1, 0, 0, 1, 1, 1, 0, 1,\n",
       "       0, 0, 1, 0, 0, 1, 1, 0, 0, 1, 0, 1, 0, 0, 1, 0, 1, 0, 0, 1, 0, 0,\n",
       "       1, 0, 1, 1, 0, 1, 0, 0, 0, 1, 0, 0, 0, 0, 1, 1, 0, 0, 0, 0, 0, 0,\n",
       "       0, 0, 0, 0, 1, 0, 0, 1, 1, 1, 0, 0, 0, 0, 1, 0, 0, 0, 0, 1, 1, 1,\n",
       "       0, 0, 0, 0, 0, 0, 0, 0, 0, 1, 0, 1, 0, 0, 1, 1, 1, 1, 1, 1, 0, 0,\n",
       "       0, 0, 0, 0, 1, 0, 0, 1, 0, 1, 0, 1, 0, 0, 1, 0, 0, 1, 0, 0, 0, 1,\n",
       "       0, 0, 1, 1, 1, 0, 1, 0, 1, 1, 0, 0, 0, 0, 0, 1, 0, 0, 0, 1, 0, 0,\n",
       "       0, 1, 0, 1, 1, 1, 0, 0, 0, 0, 0, 0, 0, 0, 1, 0, 0, 0, 1, 0, 1, 0,\n",
       "       0, 1, 1, 1, 0, 1, 1, 0, 0, 0, 1, 0, 0, 0, 0, 0, 1, 0, 0, 0, 0, 1,\n",
       "       0, 0, 0, 1, 0, 0, 0, 0, 0, 0, 1, 1, 1, 0, 0, 1, 0, 0, 1, 0, 1, 1,\n",
       "       0, 0, 0, 0, 0, 0, 0, 0, 1, 0, 0, 0, 0, 1, 1, 1, 1, 0, 0, 0, 0, 0,\n",
       "       1, 1, 0, 1, 0, 0, 0, 0, 1, 0, 1, 0, 1, 1, 0, 0, 0, 0, 0, 0, 0, 0,\n",
       "       0, 0, 0, 0, 0, 0, 1, 1, 0, 0, 0, 0, 0, 0, 1, 0, 1, 1, 1, 0, 0, 0,\n",
       "       0, 0, 0, 0, 1, 0, 1, 0, 0, 0, 0, 0, 1, 0, 0, 1, 0, 1, 0, 0, 0, 1,\n",
       "       0, 1, 0, 1, 0, 0, 0, 0, 0, 1, 1, 0, 1, 0, 0, 0, 0, 0, 1, 1, 0, 1,\n",
       "       1, 0, 0, 0, 0, 0, 0, 1, 0, 0, 0, 0, 1, 0, 0, 0, 0, 1, 1, 0, 1, 0,\n",
       "       0, 0, 1, 0, 0, 0, 0, 1, 0, 0, 0, 1, 0, 1, 0, 1, 0, 0, 0, 0, 1, 0,\n",
       "       0, 0, 0, 1, 0, 1, 1, 1, 1, 0, 0, 0, 1, 0, 0, 0, 0, 0, 0, 0, 0, 0,\n",
       "       1, 1, 0, 0, 0, 1, 1, 0, 0, 0, 0, 1, 0, 1, 0, 0, 0, 0, 0, 0, 1, 0,\n",
       "       0, 0, 1, 0, 0, 1, 0, 0, 0, 1, 0, 1, 1, 0, 0, 0, 0, 1, 0, 0, 0, 1,\n",
       "       0, 0, 1, 0, 0, 0, 0, 0, 0, 1, 0, 0, 1, 1, 1, 1, 1, 0, 1, 0, 0, 0,\n",
       "       1, 0, 0, 1, 1, 1, 0, 0, 0, 1, 0, 0, 1, 1, 0, 0, 0, 1, 1, 0, 1, 0,\n",
       "       0, 0, 0, 1, 1, 1, 0], dtype=int64)"
      ]
     },
     "execution_count": 15,
     "metadata": {},
     "output_type": "execute_result"
    }
   ],
   "source": [
    "model.predict(X)"
   ]
  },
  {
   "cell_type": "code",
   "execution_count": 16,
   "metadata": {},
   "outputs": [
    {
     "data": {
      "text/plain": [
       "array([0], dtype=int64)"
      ]
     },
     "execution_count": 16,
     "metadata": {},
     "output_type": "execute_result"
    }
   ],
   "source": [
    "model.predict([[3, True, 22.0, 1, 0, 7.25]])"
   ]
  },
  {
   "cell_type": "code",
   "execution_count": 17,
   "metadata": {},
   "outputs": [
    {
     "name": "stdout",
     "output_type": "stream",
     "text": [
      "[0 1 1 1 0 0 0 0 1 1 1 1 0 0 1 1 0 0 1 1 0 0 1 1 1 0 0 0 1 0 0 1 1 0 0 0 0\n",
      " 0 1 1]\n",
      "[0 1 1 1 0 0 0 0 1 1 1 1 0 0 0 1 0 1 0 1 0 1 1 1 0 1 0 0 1 0 0 1 1 0 0 0 1\n",
      " 0 0 1]\n"
     ]
    }
   ],
   "source": [
    "#check for the first 5 rows\n",
    "print(model.predict(X[:40]))\n",
    "# compare it with the target\n",
    "print(y[:40])"
   ]
  },
  {
   "cell_type": "code",
   "execution_count": 18,
   "metadata": {},
   "outputs": [],
   "source": [
    "# predicted y values\n",
    "pred_y = model.predict(X)"
   ]
  },
  {
   "cell_type": "code",
   "execution_count": 19,
   "metadata": {},
   "outputs": [
    {
     "data": {
      "text/plain": [
       "array([ True,  True,  True,  True,  True,  True,  True,  True,  True,\n",
       "        True,  True,  True,  True,  True, False,  True,  True, False,\n",
       "       False,  True,  True, False,  True,  True, False, False,  True,\n",
       "        True,  True,  True,  True,  True,  True,  True,  True,  True,\n",
       "       False,  True, False,  True,  True, False,  True,  True,  True,\n",
       "        True,  True,  True, False,  True,  True,  True,  True,  True,\n",
       "       False,  True,  True,  True,  True,  True,  True,  True,  True,\n",
       "        True, False,  True,  True, False,  True,  True,  True,  True,\n",
       "        True, False,  True,  True,  True,  True,  True,  True, False,\n",
       "        True, False,  True, False,  True,  True,  True,  True,  True,\n",
       "        True,  True,  True,  True,  True,  True,  True,  True,  True,\n",
       "       False,  True, False,  True,  True,  True,  True, False,  True,\n",
       "        True,  True, False,  True, False, False,  True,  True,  True,\n",
       "       False,  True,  True,  True,  True,  True,  True, False,  True,\n",
       "       False,  True,  True,  True,  True,  True,  True,  True,  True,\n",
       "        True,  True,  True, False,  True,  True,  True,  True,  True,\n",
       "        True, False, False,  True,  True,  True,  True,  True,  True,\n",
       "        True,  True,  True,  True,  True,  True,  True,  True,  True,\n",
       "        True,  True, False,  True,  True,  True,  True,  True,  True,\n",
       "        True,  True,  True,  True,  True, False,  True,  True,  True,\n",
       "        True,  True, False,  True,  True,  True, False,  True,  True,\n",
       "        True,  True,  True, False,  True,  True,  True,  True,  True,\n",
       "       False,  True,  True,  True,  True, False, False,  True, False,\n",
       "        True, False,  True,  True,  True,  True,  True,  True,  True,\n",
       "        True,  True,  True, False,  True,  True,  True, False,  True,\n",
       "       False,  True,  True,  True,  True,  True,  True, False,  True,\n",
       "       False,  True,  True,  True,  True, False,  True,  True,  True,\n",
       "        True,  True, False,  True, False,  True,  True,  True,  True,\n",
       "        True,  True,  True,  True,  True,  True,  True, False,  True,\n",
       "        True, False,  True,  True, False,  True,  True, False, False,\n",
       "        True,  True,  True,  True,  True,  True,  True, False,  True,\n",
       "        True,  True, False,  True,  True, False,  True, False,  True,\n",
       "        True,  True,  True, False,  True, False,  True, False, False,\n",
       "        True,  True, False,  True,  True,  True,  True,  True,  True,\n",
       "        True,  True,  True,  True, False,  True,  True,  True,  True,\n",
       "        True,  True,  True,  True,  True,  True,  True,  True,  True,\n",
       "        True,  True, False,  True, False,  True, False,  True,  True,\n",
       "        True,  True,  True, False,  True, False,  True,  True,  True,\n",
       "        True,  True,  True, False, False,  True,  True,  True,  True,\n",
       "        True,  True,  True,  True, False,  True,  True,  True,  True,\n",
       "        True,  True,  True,  True,  True,  True,  True,  True,  True,\n",
       "        True,  True, False, False,  True,  True, False,  True,  True,\n",
       "        True,  True,  True,  True,  True,  True,  True,  True,  True,\n",
       "        True, False, False,  True,  True,  True,  True, False,  True,\n",
       "        True,  True, False,  True, False,  True, False,  True,  True,\n",
       "       False,  True, False,  True,  True,  True,  True, False, False,\n",
       "        True,  True,  True, False,  True,  True, False,  True,  True,\n",
       "        True,  True,  True, False,  True, False,  True,  True,  True,\n",
       "        True,  True,  True,  True,  True,  True,  True,  True,  True,\n",
       "       False,  True,  True, False,  True, False,  True,  True, False,\n",
       "       False,  True, False,  True,  True,  True,  True, False,  True,\n",
       "        True,  True,  True,  True,  True,  True,  True,  True,  True,\n",
       "        True,  True,  True, False,  True,  True,  True,  True,  True,\n",
       "        True,  True,  True, False,  True, False,  True,  True,  True,\n",
       "       False,  True,  True,  True,  True,  True,  True,  True,  True,\n",
       "       False,  True,  True, False, False, False,  True, False,  True,\n",
       "       False,  True, False, False,  True, False,  True,  True,  True,\n",
       "        True,  True,  True,  True,  True,  True,  True,  True,  True,\n",
       "        True,  True,  True,  True,  True,  True,  True,  True,  True,\n",
       "       False,  True,  True,  True,  True,  True,  True,  True,  True,\n",
       "       False,  True,  True,  True, False,  True, False,  True,  True,\n",
       "        True, False,  True,  True,  True, False,  True, False,  True,\n",
       "        True,  True,  True,  True,  True,  True, False,  True, False,\n",
       "       False,  True, False,  True,  True,  True,  True,  True, False,\n",
       "       False,  True,  True,  True,  True,  True,  True,  True, False,\n",
       "        True,  True,  True,  True,  True,  True,  True,  True,  True,\n",
       "        True,  True, False,  True,  True,  True,  True, False,  True,\n",
       "        True,  True,  True,  True,  True,  True,  True,  True,  True,\n",
       "        True,  True, False,  True,  True,  True, False, False,  True,\n",
       "        True,  True,  True,  True,  True,  True, False,  True,  True,\n",
       "       False, False,  True,  True,  True,  True,  True,  True,  True,\n",
       "       False, False,  True, False,  True, False,  True,  True,  True,\n",
       "        True,  True,  True, False,  True,  True,  True,  True,  True,\n",
       "       False,  True,  True,  True, False,  True,  True,  True,  True,\n",
       "        True,  True,  True,  True, False,  True,  True,  True,  True,\n",
       "        True,  True, False,  True,  True,  True,  True,  True,  True,\n",
       "        True,  True,  True, False,  True, False,  True,  True,  True,\n",
       "        True,  True,  True,  True,  True, False, False,  True,  True,\n",
       "        True,  True, False,  True, False,  True,  True, False,  True,\n",
       "        True,  True,  True,  True,  True,  True,  True,  True,  True,\n",
       "       False,  True,  True,  True,  True, False,  True,  True,  True,\n",
       "        True,  True,  True,  True,  True,  True,  True, False,  True,\n",
       "        True,  True, False,  True,  True,  True, False,  True,  True,\n",
       "       False,  True,  True,  True, False,  True,  True,  True,  True,\n",
       "        True,  True, False,  True,  True,  True,  True, False,  True,\n",
       "        True,  True,  True, False,  True, False,  True,  True,  True,\n",
       "        True,  True,  True,  True, False,  True,  True,  True,  True,\n",
       "        True, False,  True,  True,  True,  True,  True,  True,  True,\n",
       "        True,  True,  True,  True,  True,  True,  True, False, False,\n",
       "        True,  True, False,  True,  True,  True,  True,  True,  True,\n",
       "        True,  True, False,  True,  True,  True,  True, False,  True,\n",
       "        True,  True,  True,  True,  True, False,  True,  True, False,\n",
       "        True,  True,  True,  True,  True,  True, False,  True,  True,\n",
       "        True,  True,  True,  True,  True,  True,  True,  True,  True,\n",
       "        True,  True, False,  True, False,  True,  True, False,  True,\n",
       "        True,  True,  True,  True,  True,  True,  True,  True, False,\n",
       "        True, False,  True,  True,  True,  True,  True,  True,  True,\n",
       "        True,  True,  True,  True,  True, False,  True,  True,  True,\n",
       "        True,  True, False,  True,  True])"
      ]
     },
     "execution_count": 19,
     "metadata": {},
     "output_type": "execute_result"
    }
   ],
   "source": [
    "# compare it with the target values\n",
    "y == pred_y"
   ]
  },
  {
   "cell_type": "code",
   "execution_count": 20,
   "metadata": {},
   "outputs": [
    {
     "name": "stdout",
     "output_type": "stream",
     "text": [
      "714\n"
     ]
    }
   ],
   "source": [
    "# Number of rows for which our model predicts correctly \n",
    "print((y == pred_y).sum())"
   ]
  },
  {
   "cell_type": "markdown",
   "metadata": {},
   "source": [
    "This means that of the 887 datapoints, the model makes the correct prediction for 714 of them."
   ]
  },
  {
   "cell_type": "code",
   "execution_count": 21,
   "metadata": {},
   "outputs": [
    {
     "data": {
      "text/plain": [
       "887"
      ]
     },
     "execution_count": 21,
     "metadata": {},
     "output_type": "execute_result"
    }
   ],
   "source": [
    "print(\"precision:\", precision_score(y, y_pred))\n",
    "# Total number of passengers \n",
    "y.shape[0]"
   ]
  },
  {
   "cell_type": "code",
   "execution_count": 22,
   "metadata": {},
   "outputs": [
    {
     "name": "stdout",
     "output_type": "stream",
     "text": [
      "0.8049605411499436\n"
     ]
    }
   ],
   "source": [
    "# Now we calculate the accuracy of the model and represent it in percentage \n",
    "print((y == pred_y).sum() / y.shape[0])"
   ]
  },
  {
   "cell_type": "markdown",
   "metadata": {},
   "source": [
    "Thus the model’s accuracy is 80%. In other words, the model makes the correct prediction on 80% of the datapoints.\n"
   ]
  },
  {
   "cell_type": "code",
   "execution_count": 23,
   "metadata": {},
   "outputs": [
    {
     "data": {
      "text/plain": [
       "0.8049605411499436"
      ]
     },
     "execution_count": 23,
     "metadata": {},
     "output_type": "execute_result"
    }
   ],
   "source": [
    "# alternative method for calculating the accuracy\n",
    "model.score(X,y) "
   ]
  },
  {
   "cell_type": "code",
   "execution_count": 24,
   "metadata": {},
   "outputs": [],
   "source": [
    "# Calculating metrics in Sci-kit learn\n"
   ]
  },
  {
   "cell_type": "code",
   "execution_count": 25,
   "metadata": {},
   "outputs": [],
   "source": [
    "from sklearn.metrics import accuracy_score, precision_score, recall_score, f1_score\n"
   ]
  },
  {
   "cell_type": "code",
   "execution_count": 26,
   "metadata": {},
   "outputs": [
    {
     "name": "stdout",
     "output_type": "stream",
     "text": [
      "accuracy: 0.8049605411499436\n"
     ]
    }
   ],
   "source": [
    "print(\"accuracy:\", accuracy_score(y, pred_y))"
   ]
  },
  {
   "cell_type": "code",
   "execution_count": 28,
   "metadata": {},
   "outputs": [
    {
     "name": "stdout",
     "output_type": "stream",
     "text": [
      "precision: 0.7734627831715211\n"
     ]
    }
   ],
   "source": [
    "print(\"precision:\", precision_score(y, pred_y))"
   ]
  },
  {
   "cell_type": "code",
   "execution_count": 29,
   "metadata": {},
   "outputs": [
    {
     "name": "stdout",
     "output_type": "stream",
     "text": [
      "recall: 0.6988304093567251\n"
     ]
    }
   ],
   "source": [
    "print(\"recall:\", recall_score(y, pred_y))"
   ]
  },
  {
   "cell_type": "code",
   "execution_count": 30,
   "metadata": {},
   "outputs": [
    {
     "name": "stdout",
     "output_type": "stream",
     "text": [
      "f1 score: 0.7342549923195083\n"
     ]
    }
   ],
   "source": [
    "print(\"f1 score:\", f1_score(y, pred_y))"
   ]
  },
  {
   "cell_type": "code",
   "execution_count": 31,
   "metadata": {},
   "outputs": [
    {
     "name": "stdout",
     "output_type": "stream",
     "text": [
      "[[475  70]\n",
      " [103 239]]\n"
     ]
    }
   ],
   "source": [
    "from sklearn.metrics import confusion_matrix\n",
    "print(confusion_matrix(y, pred_y))"
   ]
  },
  {
   "cell_type": "code",
   "execution_count": 33,
   "metadata": {},
   "outputs": [
    {
     "name": "stdout",
     "output_type": "stream",
     "text": [
      "whole dataset: (887, 6) (887,)\n",
      "training set: (665, 6) (665,)\n",
      "test set: (222, 6) (222,)\n"
     ]
    }
   ],
   "source": [
    "from sklearn.model_selection import train_test_split\n",
    "X_train, X_test, y_train, y_test = train_test_split(X, y)\n",
    "\n",
    "print(\"whole dataset:\", X.shape, y.shape)\n",
    "print(\"training set:\", X_train.shape, y_train.shape)\n",
    "print(\"test set:\", X_test.shape, y_test.shape)"
   ]
  },
  {
   "cell_type": "code",
   "execution_count": 35,
   "metadata": {},
   "outputs": [
    {
     "data": {
      "text/plain": [
       "array([[0.31647732, 0.68352268],\n",
       "       [0.55585585, 0.44414415],\n",
       "       [0.86710941, 0.13289059],\n",
       "       [0.86145678, 0.13854322],\n",
       "       [0.72636845, 0.27363155],\n",
       "       [0.37357348, 0.62642652],\n",
       "       [0.84017225, 0.15982775],\n",
       "       [0.94954607, 0.05045393],\n",
       "       [0.39068058, 0.60931942],\n",
       "       [0.59268132, 0.40731868],\n",
       "       [0.83476395, 0.16523605],\n",
       "       [0.88948852, 0.11051148],\n",
       "       [0.73730665, 0.26269335],\n",
       "       [0.52452956, 0.47547044],\n",
       "       [0.93830461, 0.06169539],\n",
       "       [0.58529871, 0.41470129],\n",
       "       [0.63575678, 0.36424322],\n",
       "       [0.93589925, 0.06410075],\n",
       "       [0.25432615, 0.74567385],\n",
       "       [0.91542006, 0.08457994],\n",
       "       [0.10654702, 0.89345298],\n",
       "       [0.74430245, 0.25569755],\n",
       "       [0.73212437, 0.26787563],\n",
       "       [0.5749778 , 0.4250222 ],\n",
       "       [0.05879924, 0.94120076],\n",
       "       [0.74146242, 0.25853758],\n",
       "       [0.8833192 , 0.1166808 ],\n",
       "       [0.644491  , 0.355509  ],\n",
       "       [0.09689238, 0.90310762],\n",
       "       [0.71734662, 0.28265338],\n",
       "       [0.21812641, 0.78187359],\n",
       "       [0.88722328, 0.11277672],\n",
       "       [0.6247248 , 0.3752752 ],\n",
       "       [0.86186009, 0.13813991],\n",
       "       [0.89700157, 0.10299843],\n",
       "       [0.92355995, 0.07644005],\n",
       "       [0.72891598, 0.27108402],\n",
       "       [0.86682808, 0.13317192],\n",
       "       [0.67660184, 0.32339816],\n",
       "       [0.0485866 , 0.9514134 ],\n",
       "       [0.11274492, 0.88725508],\n",
       "       [0.86710229, 0.13289771],\n",
       "       [0.89758126, 0.10241874],\n",
       "       [0.90866119, 0.09133881],\n",
       "       [0.04384488, 0.95615512],\n",
       "       [0.33500267, 0.66499733],\n",
       "       [0.65329268, 0.34670732],\n",
       "       [0.43670058, 0.56329942],\n",
       "       [0.05030842, 0.94969158],\n",
       "       [0.19566976, 0.80433024],\n",
       "       [0.05573817, 0.94426183],\n",
       "       [0.01813529, 0.98186471],\n",
       "       [0.19861352, 0.80138648],\n",
       "       [0.79821534, 0.20178466],\n",
       "       [0.86190431, 0.13809569],\n",
       "       [0.05039815, 0.94960185],\n",
       "       [0.94646258, 0.05353742],\n",
       "       [0.92826027, 0.07173973],\n",
       "       [0.04374173, 0.95625827],\n",
       "       [0.92991182, 0.07008818],\n",
       "       [0.78250448, 0.21749552],\n",
       "       [0.07061506, 0.92938494],\n",
       "       [0.44125304, 0.55874696],\n",
       "       [0.42022105, 0.57977895],\n",
       "       [0.64619146, 0.35380854],\n",
       "       [0.65159197, 0.34840803],\n",
       "       [0.23393047, 0.76606953],\n",
       "       [0.74489769, 0.25510231],\n",
       "       [0.58529871, 0.41470129],\n",
       "       [0.20644205, 0.79355795],\n",
       "       [0.8515608 , 0.1484392 ],\n",
       "       [0.39375542, 0.60624458],\n",
       "       [0.92785203, 0.07214797],\n",
       "       [0.49350847, 0.50649153],\n",
       "       [0.85679363, 0.14320637],\n",
       "       [0.82717959, 0.17282041],\n",
       "       [0.17063334, 0.82936666],\n",
       "       [0.92180029, 0.07819971],\n",
       "       [0.87125283, 0.12874717],\n",
       "       [0.88938017, 0.11061983],\n",
       "       [0.81611053, 0.18388947],\n",
       "       [0.90866119, 0.09133881],\n",
       "       [0.42475798, 0.57524202],\n",
       "       [0.29983989, 0.70016011],\n",
       "       [0.51894638, 0.48105362],\n",
       "       [0.60842197, 0.39157803],\n",
       "       [0.86190431, 0.13809569],\n",
       "       [0.89810005, 0.10189995],\n",
       "       [0.18176937, 0.81823063],\n",
       "       [0.85820381, 0.14179619],\n",
       "       [0.88525398, 0.11474602],\n",
       "       [0.15441867, 0.84558133],\n",
       "       [0.82141877, 0.17858123],\n",
       "       [0.89362678, 0.10637322],\n",
       "       [0.29744801, 0.70255199],\n",
       "       [0.20634459, 0.79365541],\n",
       "       [0.26858502, 0.73141498],\n",
       "       [0.47023956, 0.52976044],\n",
       "       [0.71442364, 0.28557636],\n",
       "       [0.97578256, 0.02421744],\n",
       "       [0.8589871 , 0.1410129 ],\n",
       "       [0.05610025, 0.94389975],\n",
       "       [0.72830044, 0.27169956],\n",
       "       [0.90865398, 0.09134602],\n",
       "       [0.85703652, 0.14296348],\n",
       "       [0.30738312, 0.69261688],\n",
       "       [0.6040073 , 0.3959927 ],\n",
       "       [0.94798207, 0.05201793],\n",
       "       [0.15640278, 0.84359722],\n",
       "       [0.19354503, 0.80645497],\n",
       "       [0.6688457 , 0.3311543 ],\n",
       "       [0.88520742, 0.11479258],\n",
       "       [0.33436025, 0.66563975],\n",
       "       [0.97674372, 0.02325628],\n",
       "       [0.23554988, 0.76445012],\n",
       "       [0.15871442, 0.84128558],\n",
       "       [0.21379616, 0.78620384],\n",
       "       [0.10578863, 0.89421137],\n",
       "       [0.94429369, 0.05570631],\n",
       "       [0.2479998 , 0.7520002 ],\n",
       "       [0.91064131, 0.08935869],\n",
       "       [0.46075693, 0.53924307],\n",
       "       [0.69987093, 0.30012907],\n",
       "       [0.71073508, 0.28926492],\n",
       "       [0.3119796 , 0.6880204 ],\n",
       "       [0.05354951, 0.94645049],\n",
       "       [0.39386794, 0.60613206],\n",
       "       [0.31681492, 0.68318508],\n",
       "       [0.90133889, 0.09866111],\n",
       "       [0.86186009, 0.13813991],\n",
       "       [0.20056543, 0.79943457],\n",
       "       [0.84592112, 0.15407888],\n",
       "       [0.35849456, 0.64150544],\n",
       "       [0.54747023, 0.45252977],\n",
       "       [0.10218215, 0.89781785],\n",
       "       [0.68230949, 0.31769051],\n",
       "       [0.50304986, 0.49695014],\n",
       "       [0.18373978, 0.81626022],\n",
       "       [0.04144371, 0.95855629],\n",
       "       [0.7600949 , 0.2399051 ],\n",
       "       [0.62925421, 0.37074579],\n",
       "       [0.12280392, 0.87719608],\n",
       "       [0.85608111, 0.14391889],\n",
       "       [0.89755393, 0.10244607],\n",
       "       [0.67223078, 0.32776922],\n",
       "       [0.19591988, 0.80408012],\n",
       "       [0.64274492, 0.35725508],\n",
       "       [0.46707853, 0.53292147],\n",
       "       [0.39391934, 0.60608066],\n",
       "       [0.79936662, 0.20063338],\n",
       "       [0.80159188, 0.19840812],\n",
       "       [0.2128985 , 0.7871015 ],\n",
       "       [0.72841268, 0.27158732],\n",
       "       [0.37135369, 0.62864631],\n",
       "       [0.36548086, 0.63451914],\n",
       "       [0.12738018, 0.87261982],\n",
       "       [0.5164289 , 0.4835711 ],\n",
       "       [0.18414885, 0.81585115],\n",
       "       [0.99259239, 0.00740761],\n",
       "       [0.86682808, 0.13317192],\n",
       "       [0.09701409, 0.90298591],\n",
       "       [0.70908927, 0.29091073],\n",
       "       [0.31679884, 0.68320116],\n",
       "       [0.82817535, 0.17182465],\n",
       "       [0.7361549 , 0.2638451 ],\n",
       "       [0.16796205, 0.83203795],\n",
       "       [0.96878764, 0.03121236],\n",
       "       [0.94352486, 0.05647514],\n",
       "       [0.87660293, 0.12339707],\n",
       "       [0.80132148, 0.19867852],\n",
       "       [0.54510547, 0.45489453],\n",
       "       [0.86688097, 0.13311903],\n",
       "       [0.25634273, 0.74365727],\n",
       "       [0.84633543, 0.15366457],\n",
       "       [0.87584282, 0.12415718],\n",
       "       [0.7079333 , 0.2920667 ],\n",
       "       [0.91542006, 0.08457994],\n",
       "       [0.93046968, 0.06953032],\n",
       "       [0.71786605, 0.28213395],\n",
       "       [0.17808909, 0.82191091],\n",
       "       [0.35415553, 0.64584447],\n",
       "       [0.89754825, 0.10245175],\n",
       "       [0.76645874, 0.23354126],\n",
       "       [0.89328142, 0.10671858],\n",
       "       [0.87639251, 0.12360749],\n",
       "       [0.1197048 , 0.8802952 ],\n",
       "       [0.92178798, 0.07821202],\n",
       "       [0.48932805, 0.51067195],\n",
       "       [0.81676812, 0.18323188],\n",
       "       [0.77390922, 0.22609078],\n",
       "       [0.80467895, 0.19532105],\n",
       "       [0.03782712, 0.96217288],\n",
       "       [0.10305114, 0.89694886],\n",
       "       [0.13020281, 0.86979719],\n",
       "       [0.92187363, 0.07812637],\n",
       "       [0.89358559, 0.10641441],\n",
       "       [0.18453   , 0.81547   ],\n",
       "       [0.36905389, 0.63094611],\n",
       "       [0.27909498, 0.72090502],\n",
       "       [0.78839296, 0.21160704],\n",
       "       [0.10247258, 0.89752742],\n",
       "       [0.11123425, 0.88876575],\n",
       "       [0.26420977, 0.73579023],\n",
       "       [0.08911297, 0.91088703],\n",
       "       [0.58951468, 0.41048532],\n",
       "       [0.32559985, 0.67440015],\n",
       "       [0.85960541, 0.14039459],\n",
       "       [0.86221353, 0.13778647],\n",
       "       [0.31639427, 0.68360573],\n",
       "       [0.4500544 , 0.5499456 ],\n",
       "       [0.24475641, 0.75524359],\n",
       "       [0.8975061 , 0.1024939 ],\n",
       "       [0.87169528, 0.12830472],\n",
       "       [0.91577699, 0.08422301],\n",
       "       [0.26415437, 0.73584563],\n",
       "       [0.03016996, 0.96983004],\n",
       "       [0.16547795, 0.83452205],\n",
       "       [0.12074179, 0.87925821],\n",
       "       [0.37061318, 0.62938682],\n",
       "       [0.03385143, 0.96614857],\n",
       "       [0.96607853, 0.03392147],\n",
       "       [0.91914181, 0.08085819]])"
      ]
     },
     "execution_count": 35,
     "metadata": {},
     "output_type": "execute_result"
    }
   ],
   "source": [
    "# adjusting the Logistic Regression threshold\n",
    "model.predict_proba(X_test)"
   ]
  },
  {
   "cell_type": "code",
   "execution_count": 36,
   "metadata": {},
   "outputs": [
    {
     "data": {
      "text/plain": [
       "array([0.68352268, 0.44414415, 0.13289059, 0.13854322, 0.27363155,\n",
       "       0.62642652, 0.15982775, 0.05045393, 0.60931942, 0.40731868,\n",
       "       0.16523605, 0.11051148, 0.26269335, 0.47547044, 0.06169539,\n",
       "       0.41470129, 0.36424322, 0.06410075, 0.74567385, 0.08457994,\n",
       "       0.89345298, 0.25569755, 0.26787563, 0.4250222 , 0.94120076,\n",
       "       0.25853758, 0.1166808 , 0.355509  , 0.90310762, 0.28265338,\n",
       "       0.78187359, 0.11277672, 0.3752752 , 0.13813991, 0.10299843,\n",
       "       0.07644005, 0.27108402, 0.13317192, 0.32339816, 0.9514134 ,\n",
       "       0.88725508, 0.13289771, 0.10241874, 0.09133881, 0.95615512,\n",
       "       0.66499733, 0.34670732, 0.56329942, 0.94969158, 0.80433024,\n",
       "       0.94426183, 0.98186471, 0.80138648, 0.20178466, 0.13809569,\n",
       "       0.94960185, 0.05353742, 0.07173973, 0.95625827, 0.07008818,\n",
       "       0.21749552, 0.92938494, 0.55874696, 0.57977895, 0.35380854,\n",
       "       0.34840803, 0.76606953, 0.25510231, 0.41470129, 0.79355795,\n",
       "       0.1484392 , 0.60624458, 0.07214797, 0.50649153, 0.14320637,\n",
       "       0.17282041, 0.82936666, 0.07819971, 0.12874717, 0.11061983,\n",
       "       0.18388947, 0.09133881, 0.57524202, 0.70016011, 0.48105362,\n",
       "       0.39157803, 0.13809569, 0.10189995, 0.81823063, 0.14179619,\n",
       "       0.11474602, 0.84558133, 0.17858123, 0.10637322, 0.70255199,\n",
       "       0.79365541, 0.73141498, 0.52976044, 0.28557636, 0.02421744,\n",
       "       0.1410129 , 0.94389975, 0.27169956, 0.09134602, 0.14296348,\n",
       "       0.69261688, 0.3959927 , 0.05201793, 0.84359722, 0.80645497,\n",
       "       0.3311543 , 0.11479258, 0.66563975, 0.02325628, 0.76445012,\n",
       "       0.84128558, 0.78620384, 0.89421137, 0.05570631, 0.7520002 ,\n",
       "       0.08935869, 0.53924307, 0.30012907, 0.28926492, 0.6880204 ,\n",
       "       0.94645049, 0.60613206, 0.68318508, 0.09866111, 0.13813991,\n",
       "       0.79943457, 0.15407888, 0.64150544, 0.45252977, 0.89781785,\n",
       "       0.31769051, 0.49695014, 0.81626022, 0.95855629, 0.2399051 ,\n",
       "       0.37074579, 0.87719608, 0.14391889, 0.10244607, 0.32776922,\n",
       "       0.80408012, 0.35725508, 0.53292147, 0.60608066, 0.20063338,\n",
       "       0.19840812, 0.7871015 , 0.27158732, 0.62864631, 0.63451914,\n",
       "       0.87261982, 0.4835711 , 0.81585115, 0.00740761, 0.13317192,\n",
       "       0.90298591, 0.29091073, 0.68320116, 0.17182465, 0.2638451 ,\n",
       "       0.83203795, 0.03121236, 0.05647514, 0.12339707, 0.19867852,\n",
       "       0.45489453, 0.13311903, 0.74365727, 0.15366457, 0.12415718,\n",
       "       0.2920667 , 0.08457994, 0.06953032, 0.28213395, 0.82191091,\n",
       "       0.64584447, 0.10245175, 0.23354126, 0.10671858, 0.12360749,\n",
       "       0.8802952 , 0.07821202, 0.51067195, 0.18323188, 0.22609078,\n",
       "       0.19532105, 0.96217288, 0.89694886, 0.86979719, 0.07812637,\n",
       "       0.10641441, 0.81547   , 0.63094611, 0.72090502, 0.21160704,\n",
       "       0.89752742, 0.88876575, 0.73579023, 0.91088703, 0.41048532,\n",
       "       0.67440015, 0.14039459, 0.13778647, 0.68360573, 0.5499456 ,\n",
       "       0.75524359, 0.1024939 , 0.12830472, 0.08422301, 0.73584563,\n",
       "       0.96983004, 0.83452205, 0.87925821, 0.62938682, 0.96614857,\n",
       "       0.03392147, 0.08085819])"
      ]
     },
     "execution_count": 36,
     "metadata": {},
     "output_type": "execute_result"
    }
   ],
   "source": [
    "model.predict_proba(X_test)[:,1]"
   ]
  },
  {
   "cell_type": "code",
   "execution_count": 37,
   "metadata": {},
   "outputs": [
    {
     "data": {
      "text/plain": [
       "array([False, False, False, False, False, False, False, False, False,\n",
       "       False, False, False, False, False, False, False, False, False,\n",
       "       False, False,  True, False, False, False,  True, False, False,\n",
       "       False,  True, False,  True, False, False, False, False, False,\n",
       "       False, False, False,  True,  True, False, False, False,  True,\n",
       "       False, False, False,  True,  True,  True,  True,  True, False,\n",
       "       False,  True, False, False,  True, False, False,  True, False,\n",
       "       False, False, False,  True, False, False,  True, False, False,\n",
       "       False, False, False, False,  True, False, False, False, False,\n",
       "       False, False, False, False, False, False, False,  True, False,\n",
       "       False,  True, False, False, False,  True, False, False, False,\n",
       "       False, False,  True, False, False, False, False, False, False,\n",
       "        True,  True, False, False, False, False,  True,  True,  True,\n",
       "        True, False,  True, False, False, False, False, False,  True,\n",
       "       False, False, False, False,  True, False, False, False,  True,\n",
       "       False, False,  True,  True, False, False,  True, False, False,\n",
       "       False,  True, False, False, False, False, False,  True, False,\n",
       "       False, False,  True, False,  True, False, False,  True, False,\n",
       "       False, False, False,  True, False, False, False, False, False,\n",
       "       False, False, False, False, False, False, False, False,  True,\n",
       "       False, False, False, False, False,  True, False, False, False,\n",
       "       False, False,  True,  True,  True, False, False,  True, False,\n",
       "       False, False,  True,  True, False,  True, False, False, False,\n",
       "       False, False, False,  True, False, False, False, False,  True,\n",
       "        True,  True, False,  True, False, False])"
      ]
     },
     "execution_count": 37,
     "metadata": {},
     "output_type": "execute_result"
    }
   ],
   "source": [
    "model.predict_proba(X_test)[:,1] > 0.75"
   ]
  },
  {
   "cell_type": "code",
   "execution_count": null,
   "metadata": {},
   "outputs": [],
   "source": []
  }
 ],
 "metadata": {
  "kernelspec": {
   "display_name": "Python 3",
   "language": "python",
   "name": "python3"
  },
  "language_info": {
   "codemirror_mode": {
    "name": "ipython",
    "version": 3
   },
   "file_extension": ".py",
   "mimetype": "text/x-python",
   "name": "python",
   "nbconvert_exporter": "python",
   "pygments_lexer": "ipython3",
   "version": "3.6.2"
  }
 },
 "nbformat": 4,
 "nbformat_minor": 4
}
